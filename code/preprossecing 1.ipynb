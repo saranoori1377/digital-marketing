{
 "cells": [
  {
   "cell_type": "code",
   "execution_count": 66,
   "id": "8827b25b-df1b-49a6-88ef-3f37aa7617de",
   "metadata": {},
   "outputs": [
    {
     "name": "stdout",
     "output_type": "stream",
     "text": [
      "PC Prices and Rates after processing:\n",
      "   price  rate\n",
      "0    4.8  True\n",
      "1    4.7  True\n",
      "2    NaN  True\n",
      "3    NaN  True\n",
      "4    5.0  True\n",
      "Mobile Prices and Rates after processing:\n",
      "         price  rate\n",
      "0  213999000.0   4.4\n",
      "1   16499000.0   4.5\n",
      "2    8875000.0   4.5\n",
      "3    5979000.0   4.2\n",
      "4    8300000.0   4.4\n"
     ]
    }
   ],
   "source": [
    "import os\n",
    "import json\n",
    "import pandas as pd\n",
    "\n",
    "# تابع تبدیل اعداد فارسی به انگلیسی\n",
    "def convert_farsi_to_english_numbers(s):\n",
    "    \"\"\"تبدیل اعداد فارسی به اعداد انگلیسی\"\"\"\n",
    "    numbers = {\n",
    "        '۰': '0', '۱': '1', '۲': '2', '۳': '3', '۴': '4',\n",
    "        '۵': '5', '۶': '6', '۷': '7', '۸': '8', '۹': '9'\n",
    "    }\n",
    "    if isinstance(s, str):\n",
    "        for persian_digit, english_digit in numbers.items():\n",
    "            s = s.replace(persian_digit, english_digit)\n",
    "    return s\n",
    "\n",
    "# مشخص کردن نام فایل‌های JSON\n",
    "pc_data = ['apple.json', 'acer.json', 'asus.json', 'hp.json', 'lenovo.json', 'msi.json']\n",
    "mobile_data = ['honor.json', 'huawei.json', 'nokia.json', 'samsung.json', 'xiaomi.json']\n",
    "\n",
    "all_pc_data = []\n",
    "all_mobile_data = []\n",
    "\n",
    "# خواندن داده‌های کامپیوتر\n",
    "for filename in os.listdir():\n",
    "    if filename in pc_data:  \n",
    "        with open(filename, 'r', encoding='utf-8') as file:\n",
    "            data1 = json.load(file)\n",
    "            all_pc_data.append(data1) if isinstance(data1, dict) else all_pc_data.extend(data1)\n",
    "\n",
    "# خواندن داده‌های موبایل\n",
    "for filename in os.listdir():\n",
    "    if filename in mobile_data:  \n",
    "        with open(filename, 'r', encoding='utf-8') as file:\n",
    "            data2 = json.load(file)\n",
    "            all_mobile_data.append(data2) if isinstance(data2, dict) else all_mobile_data.extend(data2)\n",
    "\n",
    "# تبدیل داده‌ها به DataFrame\n",
    "df_mobile = pd.DataFrame(all_mobile_data)\n",
    "df_pc = pd.DataFrame(all_pc_data)\n",
    "\n",
    "# تغییر نام ستون‌ها برای موبایل و کامپیوتر\n",
    "columns = ['id', 'link', 'image', 'name', 'price', 'rate', 'freeSend', 'status']\n",
    "if not df_mobile.empty:\n",
    "    df_mobile.columns = columns\n",
    "if not df_pc.empty:\n",
    "    df_pc.columns = columns\n",
    "\n",
    "# پردازش داده‌های قیمت‌ها و نرخ‌ها\n",
    "def process_columns(df):\n",
    "    \"\"\"پردازش ستون قیمت و نرخ\"\"\"\n",
    "    # تبدیل اعداد فارسی\n",
    "    df['price'] = df['price'].apply(lambda x: convert_farsi_to_english_numbers(x))\n",
    "    df['rate'] = df['rate'].apply(lambda x: convert_farsi_to_english_numbers(x))\n",
    "    \n",
    "    # حذف درصد و کاما از قیمت\n",
    "    df['price'] = df['price'].str.replace(r'[٪,]', '', regex=True)  \n",
    "    df['price'] = pd.to_numeric(df['price'], errors='coerce')  # تبدیل به نوع عددی\n",
    "\n",
    "    # تبدیل نرخ به عدد\n",
    "    df['rate'] = pd.to_numeric(df['rate'], errors='coerce')  # تبدیل به نوع عددی\n",
    "    return df\n",
    "\n",
    "# پردازش برای کامپیوتر\n",
    "if not df_pc.empty:\n",
    "    df_pc = process_columns(df_pc)\n",
    "    print(\"PC Prices and Rates after processing:\")\n",
    "    print(df_pc[['price', 'rate']].head(5))  # نمایش ۵ قیمت و نرخ اول برای PC\n",
    "\n",
    "# پردازش برای موبایل\n",
    "if not df_mobile.empty:\n",
    "    df_mobile = process_columns(df_mobile)\n",
    "    print(\"Mobile Prices and Rates after processing:\")\n",
    "    print(df_mobile[['price', 'rate']].head(5))  # نمایش ۵ قیمت و نرخ اول برای موبایل\n"
   ]
  },
  {
   "cell_type": "code",
   "execution_count": 68,
   "id": "da0056f0-24ac-49c9-9289-74393d8a3f09",
   "metadata": {},
   "outputs": [
    {
     "name": "stdout",
     "output_type": "stream",
     "text": [
      "[1.]\n",
      "[4.4 4.5 4.2 4.1 4.3 5.  3.6 4.6 3.8 4.  3.9 4.8 nan 3.  4.7 3.5 3.4 3.7\n",
      " 2.8 3.1 2.  2.9 2.6 3.3 2.5 2.3 3.2 4.9 2.4 1.5 1.6]\n"
     ]
    }
   ],
   "source": [
    "print(combined_df1['rate'].unique())  # نمایش مقادیر یکتا در ستون rate برای کامپیوتر\n",
    "print(combined_df2['rate'].unique())  # نمایش مقادیر یکتا در ستون rate برای موبایل\n"
   ]
  },
  {
   "cell_type": "code",
   "execution_count": 70,
   "id": "226aab8a-9f58-4e12-9f18-223b13aa3e7d",
   "metadata": {},
   "outputs": [
    {
     "name": "stdout",
     "output_type": "stream",
     "text": [
      "0    1.0\n",
      "1    1.0\n",
      "2    1.0\n",
      "3    1.0\n",
      "4    1.0\n",
      "Name: rate, dtype: float64\n",
      "0    4.4\n",
      "1    4.5\n",
      "2    4.5\n",
      "3    4.2\n",
      "4    4.4\n",
      "Name: rate, dtype: float64\n"
     ]
    }
   ],
   "source": [
    "import pandas as pd\n",
    "import numpy as np\n",
    "\n",
    "def clean_and_convert_rate(s):\n",
    "    \"\"\"پاکسازی و تبدیل مقادیر rate به عدد\"\"\"\n",
    "    # ابتدا تبدیل اعداد فارسی به انگلیسی\n",
    "    s = convert_farsi_to_english_numbers(s)\n",
    "    \n",
    "    # حذف هر چیزی که عدد نیست\n",
    "    if isinstance(s, str):\n",
    "        # فقط اعداد و اعشار را نگه می‌دارد\n",
    "        s = ''.join(filter(lambda x: x.isdigit() or x == '.', s))\n",
    "    \n",
    "    # اگر رشته خالی ماند، None را برمی‌گرداند\n",
    "    return float(s) if s else np.nan\n",
    "\n",
    "# پردازش ستون rate برای DataFrame کامپیوتر\n",
    "combined_df1['rate'] = combined_df1['rate'].apply(clean_and_convert_rate)\n",
    "\n",
    "# پردازش ستون rate برای DataFrame موبایل\n",
    "combined_df2['rate'] = combined_df2['rate'].apply(clean_and_convert_rate)\n",
    "\n",
    "# چاپ مقادیر جدید برای بررسی\n",
    "print(combined_df1['rate'].head(5))\n",
    "print(combined_df2['rate'].head(5))\n"
   ]
  },
  {
   "cell_type": "markdown",
   "id": "edae2ce9-31a8-4f3e-90be-79555afee36e",
   "metadata": {},
   "source": [
    "Missing value"
   ]
  },
  {
   "cell_type": "code",
   "execution_count": 74,
   "id": "0807e454-924c-4c3c-a3cd-2129104439b4",
   "metadata": {},
   "outputs": [
    {
     "name": "stdout",
     "output_type": "stream",
     "text": [
      "Number of missing values in PC Price: 442\n",
      "Number of missing values in PC Rate: 0\n",
      "Number of missing values in Mobile Price: 684\n",
      "Number of missing values in Mobile Rate: 63\n"
     ]
    }
   ],
   "source": [
    "# تعداد مقادیر گمشده در DataFrame کامپیوتر\n",
    "missing_pc_price = df_pc['price'].isnull().sum()\n",
    "missing_pc_rate = df_pc['rate'].isnull().sum()\n",
    "\n",
    "print(f\"Number of missing values in PC Price: {missing_pc_price}\")\n",
    "print(f\"Number of missing values in PC Rate: {missing_pc_rate}\")\n",
    "\n",
    "# تعداد مقادیر گمشده در DataFrame موبایل\n",
    "missing_mobile_price = df_mobile['price'].isnull().sum()\n",
    "missing_mobile_rate = df_mobile['rate'].isnull().sum()\n",
    "\n",
    "print(f\"Number of missing values in Mobile Price: {missing_mobile_price}\")\n",
    "print(f\"Number of missing values in Mobile Rate: {missing_mobile_rate}\")\n"
   ]
  },
  {
   "cell_type": "code",
   "execution_count": 97,
   "id": "f02df603-0f36-49b6-8876-4950160cb1aa",
   "metadata": {},
   "outputs": [
    {
     "name": "stderr",
     "output_type": "stream",
     "text": [
      "C:\\Users\\User\\AppData\\Local\\Temp\\ipykernel_16284\\193485577.py:15: UserWarning: This pattern is interpreted as a regular expression, and has match groups. To actually get the groups, use str.extract.\n",
      "  similar_items = df[df['name'].str.contains(row['name'], na=False, case=False)]\n"
     ]
    },
    {
     "name": "stdout",
     "output_type": "stream",
     "text": [
      "PC Data after filling missing values:\n",
      "            name  price  rate\n",
      "0   ۷٪۲۳,۷۹۰,۰۰۰    4.8  True\n",
      "1  ۱۹٪۳۱,۸۹۰,۰۰۰    4.7  True\n",
      "2  ۱۲٪۲۸,۹۹۹,۰۰۰    4.0  True\n",
      "3  ۱۲٪۲۰,۹۹۹,۵۵۰    NaN  True\n",
      "4  ۱۳٪۲۱,۰۹۹,۰۰۰    5.0  True\n",
      "\n",
      "Mobile Data after filling missing values:\n",
      "                                                name        price  rate\n",
      "0  گوشی موبایل آنر مدل X9a دو سیم کارت ظرفیت 256 ...  213999000.0   4.4\n",
      "1  گوشی موبایل آنر مدل 70 دو سیم کارت ظرفیت 128 گ...   16499000.0   4.5\n",
      "2  گوشی موبایل آنر مدل X8a دو سیم کارت ظرفیت 128 ...    8875000.0   4.5\n",
      "3  گوشی موبایل آنر مدل  X7a دو سیم کارت ظرفیت 128...    5979000.0   4.2\n",
      "4  گوشی موبایل آنر مدل X8 دو سیم کارت ظرفیت 128گی...    8300000.0   4.4\n"
     ]
    }
   ],
   "source": [
    "import pandas as pd\n",
    "import numpy as np\n",
    "\n",
    "# فرض کنید df_pc و df_mobile از قبل تعریف شده‌اند\n",
    "\n",
    "# تابعی برای پر کردن مقادیر گمشده با استفاده از نام\n",
    "def fill_missing_values(df):\n",
    "    # اطمینان از اینکه همه مقادیر در ستون name از نوع رشته هستند\n",
    "    df['name'] = df['name'].astype(str)\n",
    "\n",
    "    for index, row in df.iterrows():\n",
    "        # اگر قیمت گمشده است\n",
    "        if pd.isnull(row['price']):\n",
    "            # پیدا کردن دستگاه‌های مشابه بر اساس نام\n",
    "            similar_items = df[df['name'].str.contains(row['name'], na=False, case=False)]\n",
    "            if not similar_items.empty:\n",
    "                df.at[index, 'price'] = similar_items['price'].mean()  # میانگین قیمت دستگاه‌های مشابه\n",
    "\n",
    "        # اگر امتیاز گمشده است\n",
    "        if pd.isnull(row['rate']):\n",
    "            # پیدا کردن دستگاه‌های مشابه بر اساس نام\n",
    "            similar_items = df[df['name'].str.contains(row['name'], na=False, case=False)]\n",
    "            if not similar_items.empty:\n",
    "                df.at[index, 'rate'] = similar_items['rate'].mean()  # میانگین امتیاز دستگاه‌های مشابه\n",
    "\n",
    "    return df\n",
    "\n",
    "# پر کردن مقادیر گمشده برای کامپیوتر\n",
    "df_pc = fill_missing_values(df_pc)\n",
    "\n",
    "# پر کردن مقادیر گمشده برای موبایل\n",
    "df_mobile = fill_missing_values(df_mobile)\n",
    "\n",
    "# نمایش نتایج\n",
    "print(\"PC Data after filling missing values:\")\n",
    "print(df_pc[['name', 'price', 'rate']].head(5))\n",
    "\n",
    "print(\"\\nMobile Data after filling missing values:\")\n",
    "print(df_mobile[['name', 'price', 'rate']].head(5))\n"
   ]
  },
  {
   "cell_type": "code",
   "execution_count": null,
   "id": "768d7e46-30c3-4366-a6f4-3978f8e24e29",
   "metadata": {},
   "outputs": [],
   "source": []
  }
 ],
 "metadata": {
  "kernelspec": {
   "display_name": "Python 3 (ipykernel)",
   "language": "python",
   "name": "python3"
  },
  "language_info": {
   "codemirror_mode": {
    "name": "ipython",
    "version": 3
   },
   "file_extension": ".py",
   "mimetype": "text/x-python",
   "name": "python",
   "nbconvert_exporter": "python",
   "pygments_lexer": "ipython3",
   "version": "3.10.9"
  }
 },
 "nbformat": 4,
 "nbformat_minor": 5
}
