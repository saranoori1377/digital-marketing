{
 "cells": [
  {
   "cell_type": "code",
   "execution_count": 49,
   "id": "d3d0f6d4-3273-49d6-b20b-644b1c0d209f",
   "metadata": {},
   "outputs": [],
   "source": [
    "import os\n",
    "import json\n",
    "import pandas as pd\n",
    "\n",
    "json_files = ['acer.json', 'apple.json', 'asus.json', 'honor.json', 'hp.json', \n",
    "              'huawei.json', 'lenovo.json', 'msi.json', 'nokia.json', \n",
    "              'samsung.json', 'xiaomi.json']\n",
    "\n",
    "all_data = []\n",
    "\n",
    "for filename in os.listdir():\n",
    "    if filename in json_files:  \n",
    "        with open(filename, 'r', encoding='utf-8') as file:\n",
    "            data = json.load(file)\n",
    "            all_data.append(data) "
   ]
  },
  {
   "cell_type": "code",
   "execution_count": 51,
   "id": "c9b1adb2-430f-45c6-b0f9-9886bd311309",
   "metadata": {},
   "outputs": [
    {
     "name": "stdout",
     "output_type": "stream",
     "text": [
      "Number of all data: 1901\n",
      "0    7.237900e+08\n",
      "1    1.931890e+09\n",
      "2    1.228999e+09\n",
      "3    1.221000e+09\n",
      "4    1.321099e+09\n",
      "Name: price, dtype: float64\n"
     ]
    }
   ],
   "source": [
    "def persian_to_english_numbers(s):\n",
    "    numbers = {'۰': '0', '۱': '1', '۲': '2', '۳': '3', '۴': '4',\n",
    "               '۵': '5', '۶': '6', '۷': '7', '۸': '8', '۹': '9'}\n",
    "    if isinstance(s, str): \n",
    "        for persian_digit, english_digit in numbers.items():\n",
    "            s = s.replace(persian_digit, english_digit)\n",
    "    return s\n",
    "\n",
    "\n",
    "if all_data:\n",
    "    dfs = [pd.DataFrame(data) for data in all_data]\n",
    "    combined_df = pd.concat(dfs, ignore_index=True)\n",
    "    print(f\"Number of all data: {len(combined_df)}\")\n",
    "    combined_df['price'] = combined_df['price'].apply(persian_to_english_numbers)\n",
    "    combined_df['price'] = combined_df['price'].str.replace(r'[٪,]', '', regex=True)\n",
    "    combined_df['price'] = pd.to_numeric(combined_df['price'], errors='coerce')  # تبدیل به نوع عددی\n",
    "    print(combined_df['price'].head(5))\n",
    "else:\n",
    "    print(\"No data has been loaded\")\n"
   ]
  },
  {
   "cell_type": "code",
   "execution_count": 55,
   "id": "05e76989-82ab-4beb-be33-be97532108cd",
   "metadata": {},
   "outputs": [
    {
     "name": "stdout",
     "output_type": "stream",
     "text": [
      "  id                                               link  \\\n",
      "0  1  https://www.digikala.com/product/dkp-11019312/...   \n",
      "1  2  https://www.digikala.com/product/dkp-11579612/...   \n",
      "2  3  https://www.digikala.com/product/dkp-9833679/%...   \n",
      "3  4  https://www.digikala.com/product/dkp-11274902/...   \n",
      "4  5  https://www.digikala.com/product/dkp-10400100/...   \n",
      "\n",
      "                                                name         price rate  \\\n",
      "0  لپ تاپ 15.6 اینچی ایسر مدل Aspire 3 A315-58G-i...  7.237900e+08  ۴.۸   \n",
      "1  لپ تاپ 15.6 اینچی ایسر مدل Aspire 7 A715-42G-R2YB  1.931890e+09  ۴.۷   \n",
      "2  لپ تاپ 15.6 اینچی ایسر مدل Aspire 3 A315-58G-7...  1.228999e+09    ه   \n",
      "3  لپ تاپ 15.6 اینچی ایسر مدل Aspire A315-23-R3PE...  1.221000e+09    ه   \n",
      "4  لپ تاپ 15.6 اینچی ایسر مدل Aspire 3 A315-58G-3...  1.321099e+09    ۵   \n",
      "\n",
      "   freeSend       status image  \n",
      "0      True  ارسال امروز   NaN  \n",
      "1      True  ارسال امروز   NaN  \n",
      "2      True                NaN  \n",
      "3      True                NaN  \n",
      "4      True                NaN  \n"
     ]
    }
   ],
   "source": [
    "print(combined_df.head())"
   ]
  },
  {
   "cell_type": "code",
   "execution_count": 35,
   "id": "d50b4696-0160-45ee-96f0-38a661559a7d",
   "metadata": {},
   "outputs": [
    {
     "name": "stdout",
     "output_type": "stream",
     "text": [
      "   rate\n",
      "0   4.8\n",
      "1   4.7\n",
      "2   NaN\n",
      "3   NaN\n",
      "4   5.0\n"
     ]
    }
   ],
   "source": [
    "# تبدیل اعداد فارسی در ستون 'rate' به انگلیسی\n",
    "combined_df['rate'] = combined_df['rate'].apply(persian_to_english_numbers)\n",
    "combined_df['rate'] = pd.to_numeric(combined_df['rate'], errors='coerce')  # تبدیل به نوع عددی\n",
    "print(combined_df[['rate']].head(5))\n"
   ]
  },
  {
   "cell_type": "code",
   "execution_count": 37,
   "id": "932d014a-df1a-4e1d-a22b-b54902bd4ab3",
   "metadata": {},
   "outputs": [
    {
     "name": "stdout",
     "output_type": "stream",
     "text": [
      "Number of NaN values in 'rate': 505\n",
      "Number of NaN values in 'price': 1052\n"
     ]
    }
   ],
   "source": [
    "# محاسبه تعداد مقادیر NaN در ستون‌های 'rate' و 'price'\n",
    "nan_rate_count = combined_df['rate'].isna().sum()\n",
    "nan_price_count = combined_df['price'].isna().sum()\n",
    "\n",
    "print(f\"Number of NaN values in 'rate': {nan_rate_count}\")\n",
    "print(f\"Number of NaN values in 'price': {nan_price_count}\")\n"
   ]
  },
  {
   "cell_type": "code",
   "execution_count": 59,
   "id": "62c45176-2407-419e-91bd-f1e4b7e0cdb1",
   "metadata": {},
   "outputs": [
    {
     "name": "stdout",
     "output_type": "stream",
     "text": [
      "                                                name         price\n",
      "0  لپ تاپ 15.6 اینچی ایسر مدل Aspire 3 A315-58G-i...  7.237900e+08\n",
      "1  لپ تاپ 15.6 اینچی ایسر مدل Aspire 7 A715-42G-R2YB  1.931890e+09\n",
      "2  لپ تاپ 15.6 اینچی ایسر مدل Aspire 3 A315-58G-7...  1.228999e+09\n",
      "3  لپ تاپ 15.6 اینچی ایسر مدل Aspire A315-23-R3PE...  1.221000e+09\n",
      "4  لپ تاپ 15.6 اینچی ایسر مدل Aspire 3 A315-58G-3...  1.321099e+09\n"
     ]
    }
   ],
   "source": [
    "#   محاسبه میانگین قیمت برای هر مدل\n",
    "mean_prices = combined_df.groupby('name')['price'].mean()\n",
    "\n",
    "def fill_missing_price(row):\n",
    "    if pd.isna(row['price']):\n",
    "        return mean_prices[row['name']] \n",
    "    return row['price']\n",
    "\n",
    "combined_df['price'] = combined_df.apply(fill_missing_price, axis=1)\n",
    "print(combined_df[['name', 'price']].head(5))\n"
   ]
  },
  {
   "cell_type": "code",
   "execution_count": null,
   "id": "9d49d752-765b-472b-9393-e2e3dd7160b1",
   "metadata": {},
   "outputs": [],
   "source": []
  }
 ],
 "metadata": {
  "kernelspec": {
   "display_name": "Python 3 (ipykernel)",
   "language": "python",
   "name": "python3"
  },
  "language_info": {
   "codemirror_mode": {
    "name": "ipython",
    "version": 3
   },
   "file_extension": ".py",
   "mimetype": "text/x-python",
   "name": "python",
   "nbconvert_exporter": "python",
   "pygments_lexer": "ipython3",
   "version": "3.10.9"
  }
 },
 "nbformat": 4,
 "nbformat_minor": 5
}
