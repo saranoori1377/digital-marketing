{
 "cells": [
  {
   "cell_type": "code",
   "execution_count": 130,
   "id": "4c06e5f3-41e2-4c1b-a1e9-03da72bb5fae",
   "metadata": {},
   "outputs": [],
   "source": [
    "import pandas as pd"
   ]
  },
  {
   "cell_type": "code",
   "execution_count": 132,
   "id": "637e83fd-a3b7-46db-a4c2-e4a3019a8795",
   "metadata": {},
   "outputs": [],
   "source": [
    "df_pc = pd.read_excel(\"data_pc.xlsx\")\n",
    "df_mobile = pd.read_excel(\"df_mobile.xlsx\")"
   ]
  },
  {
   "cell_type": "code",
   "execution_count": 133,
   "id": "02533351-7315-45f9-b476-14a7c972d154",
   "metadata": {},
   "outputs": [],
   "source": [
    "import pandas as pd\n",
    "import re\n",
    "\n",
    "# تابع استانداردسازی متن فارسی\n",
    "def normalize_persian_text(text):\n",
    "    \"\"\"استانداردسازی متن فارسی\"\"\"\n",
    "    text = re.sub(r'\\s+', ' ', text)  # حذف فاصله‌های اضافی\n",
    "    text = text.replace('\\u200c', ' ')  # جایگزینی نیم‌فاصله با فاصله معمولی\n",
    "    return text.strip()\n",
    "\n",
    "# تابع استخراج برند HP و MSI\n",
    "def extract_hp_msi_brand(name):\n",
    "    \"\"\"استخراج برند HP یا MSI از نام دستگاه\"\"\"\n",
    "    normalized_name = normalize_persian_text(name)\n",
    "    if ' hp ' in normalized_name or 'اچ‌پی' in normalized_name or 'اچ پی' in normalized_name:\n",
    "        return 'hp'\n",
    "    elif ' msi ' in normalized_name or 'ام‌اس‌آی' in normalized_name or 'ام اس آی' in normalized_name:\n",
    "        return 'msi'\n",
    "    return None\n",
    "\n",
    "# اعمال تابع استخراج برند فقط برای HP و MSI در ستون 'brand'\n",
    "df_pc['brand'] = df_pc.apply(lambda row: extract_hp_msi_brand(row['name']) if extract_hp_msi_brand(row['name']) else row['brand'], axis=1)\n",
    "df_mobile['brand'] = df_mobile.apply(lambda row: extract_hp_msi_brand(row['name']) if extract_hp_msi_brand(row['name']) else row['brand'], axis=1)\n"
   ]
  },
  {
   "cell_type": "code",
   "execution_count": 135,
   "id": "9b5b9eaf-1494-4820-a3a5-446a809a2316",
   "metadata": {},
   "outputs": [
    {
     "name": "stdout",
     "output_type": "stream",
     "text": [
      "Number of missing values in 'brand' column for PC DataFrame: 0\n",
      "Number of missing values in 'brand' column for Mobile DataFrame: 0\n"
     ]
    }
   ],
   "source": [
    "# Count missing values in the 'brand' column for both DataFrames: df_pc and df_mobile\n",
    "missing_brand_pc = df_pc['brand'].isnull().sum()\n",
    "missing_brand_mobile = df_mobile['brand'].isnull().sum()\n",
    "\n",
    "print(f\"Number of missing values in 'brand' column for PC DataFrame: {missing_brand_pc}\")\n",
    "print(f\"Number of missing values in 'brand' column for Mobile DataFrame: {missing_brand_mobile}\")\n"
   ]
  },
  {
   "cell_type": "code",
   "execution_count": null,
   "id": "5836344d-b1a5-48b1-93b3-e935fd0219c5",
   "metadata": {},
   "outputs": [],
   "source": []
  }
 ],
 "metadata": {
  "kernelspec": {
   "display_name": "Python 3 (ipykernel)",
   "language": "python",
   "name": "python3"
  },
  "language_info": {
   "codemirror_mode": {
    "name": "ipython",
    "version": 3
   },
   "file_extension": ".py",
   "mimetype": "text/x-python",
   "name": "python",
   "nbconvert_exporter": "python",
   "pygments_lexer": "ipython3",
   "version": "3.10.9"
  }
 },
 "nbformat": 4,
 "nbformat_minor": 5
}
